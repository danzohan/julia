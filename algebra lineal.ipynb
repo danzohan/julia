Resolver sistemas de ecuaciones con julia

using LinearAlgebra
A = [1 2 3; 4 1 -6; 7 8 1] 

operaciones
A, det(A), tr(A), inv(A), transpose(A)

Ejercicio
Resuelve un sistema sistema 𝐴𝑥=𝑥0 , donde 𝐴 es una matriz y 𝑥 y 𝑥0 vectores columna. 𝐴 y 𝑥0 están dados.

A
x0 = [2,3,4]
x=inv(A)*x0 
x  ##vector buscado, vector columna

##comprobación

(A*x)-x0